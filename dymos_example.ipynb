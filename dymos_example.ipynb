{
 "cells": [
  {
   "cell_type": "code",
   "execution_count": null,
   "metadata": {},
   "outputs": [],
   "source": [
    "# Adapted from https://openmdao.github.io/dymos/examples/brachistochrone/brachistochrone.html"
   ]
  },
  {
   "cell_type": "code",
   "execution_count": 1,
   "metadata": {},
   "outputs": [],
   "source": [
    "import numpy as np\n",
    "import openmdao.api as om"
   ]
  },
  {
   "cell_type": "code",
   "execution_count": 30,
   "metadata": {},
   "outputs": [],
   "source": [
    "class BrachistochroneExample(om.ExplicitComponent):\n",
    "    def initialize(self):\n",
    "        self.options.declare(\"num_nodes\", types=int)\n",
    "\n",
    "    def setup(self):\n",
    "        nn = self.options[\"num_nodes\"]\n",
    "\n",
    "        self.add_input(\"tf\", val=1.0, units=\"s\", tags=[\"dymos.static_target\"])\n",
    "        # Inputs\n",
    "        self.add_input(\"v\", val=np.zeros(nn), units=\"m/s\")\n",
    "\n",
    "        self.add_input(\"g\", val=9.81, units=\"m/s/s\", tags=[\"dymos.static_target\"])\n",
    "\n",
    "        self.add_input(\"u\", val=np.ones(nn), units=\"rad\")\n",
    "\n",
    "        self.add_output(\n",
    "            \"xdot\",\n",
    "            val=np.zeros(nn),\n",
    "            units=\"m/s\",\n",
    "            tags=[\"dymos.state_rate_source:x\", \"dymos.state_units:m\"],\n",
    "        )\n",
    "\n",
    "        self.add_output(\n",
    "            \"ydot\",\n",
    "            val=np.zeros(nn),\n",
    "            units=\"m/s\",\n",
    "            tags=[\"dymos.state_rate_source:y\", \"dymos.state_units:m\"],\n",
    "        )\n",
    "\n",
    "        self.add_output(\n",
    "            \"vdot\",\n",
    "            val=np.zeros(nn),\n",
    "            units=\"m/s**2\",\n",
    "            tags=[\"dymos.state_rate_source:v\", \"dymos.state_units:m/s\"],\n",
    "        )\n",
    "\n",
    "        # Setup partials\n",
    "        r = c = np.arange(self.options[\"num_nodes\"])\n",
    "        self.declare_partials(of=\"vdot\", wrt=\"u\", rows=r, cols=c)\n",
    "\n",
    "        self.declare_partials(of=\"xdot\", wrt=\"v\", rows=r, cols=c)\n",
    "        self.declare_partials(of=\"xdot\", wrt=\"u\", rows=r, cols=c)\n",
    "\n",
    "        self.declare_partials(of=\"ydot\", wrt=\"v\", rows=r, cols=c)\n",
    "        self.declare_partials(of=\"ydot\", wrt=\"u\", rows=r, cols=c)\n",
    "\n",
    "        c_const = np.zeros(self.options[\"num_nodes\"])\n",
    "        self.declare_partials(of=\"vdot\", wrt=\"g\", rows=r, cols=c_const)\n",
    "\n",
    "        self.declare_partials(of=\"vdot\", wrt=\"tf\", rows=r, cols=c_const)\n",
    "        self.declare_partials(of=\"xdot\", wrt=\"tf\", rows=r, cols=c_const)\n",
    "        self.declare_partials(of=\"ydot\", wrt=\"tf\", rows=r, cols=c_const)\n",
    "\n",
    "    def compute(self, inputs, outputs):\n",
    "        u = inputs[\"u\"]\n",
    "        g = inputs[\"g\"]\n",
    "        v = inputs[\"v\"]\n",
    "        tf = inputs[\"tf\"]\n",
    "\n",
    "        outputs[\"xdot\"] = v * np.sin(u) * tf\n",
    "        outputs[\"ydot\"] = -v * np.cos(u) * tf\n",
    "        outputs[\"vdot\"] = g * np.cos(u) * tf\n",
    "\n",
    "    def compute_partials(self, inputs, partials):\n",
    "        u = inputs[\"u\"]\n",
    "        g = inputs[\"g\"]\n",
    "        v = inputs[\"v\"]\n",
    "        tf = inputs[\"tf\"]\n",
    "\n",
    "        partials[\"xdot\", \"v\"] = np.sin(u) * tf\n",
    "        partials[\"xdot\", \"u\"] = v * np.cos(u) * tf\n",
    "        partials[\"xdot\", \"tf\"] = v * np.sin(u)\n",
    "\n",
    "        partials[\"ydot\", \"v\"] = -np.cos(u) * tf\n",
    "        partials[\"ydot\", \"u\"] = v * np.sin(u) * tf\n",
    "        partials[\"ydot\", \"tf\"] = -v * np.cos(u)\n",
    "\n",
    "        partials[\"vdot\", \"g\"] = np.cos(u) * tf\n",
    "        partials[\"vdot\", \"u\"] = -g * np.sin(u) * tf\n",
    "        partials[\"vdot\", \"tf\"] = g * np.cos(u)\n"
   ]
  },
  {
   "cell_type": "code",
   "execution_count": 31,
   "metadata": {},
   "outputs": [
    {
     "name": "stdout",
     "output_type": "stream",
     "text": [
      "---------------------------------------\n",
      "Component: BrachistochroneExample 'ode'\n",
      "---------------------------------------\n",
      "\n",
      "'<output>' wrt '<variable>' | calc mag.  | check mag. | a(cal-chk) | r(cal-chk)\n",
      "-------------------------------------------------------------------------------\n",
      "\n",
      "'vdot'     wrt 'g'          | 2.0024e+00 | 2.0024e+00 | 1.5701e-16 | 7.8409e-17\n",
      "'vdot'     wrt 'tf'         | 1.9644e+01 | 1.9644e+01 | 1.7764e-15 | 9.0428e-17\n",
      "'vdot'     wrt 'u'          | 9.7620e+00 | 9.7620e+00 | 1.0878e-15 | 1.1143e-16\n",
      "'vdot'     wrt 'v'          | 0.0000e+00 | 0.0000e+00 | 0.0000e+00 | nan\n",
      "'xdot'     wrt 'g'          | 0.0000e+00 | 0.0000e+00 | 0.0000e+00 | nan\n",
      "'xdot'     wrt 'tf'         | 5.6642e+00 | 5.6642e+00 | 3.1402e-16 | 5.5439e-17\n",
      "'xdot'     wrt 'u'          | 1.3610e+01 | 1.3610e+01 | 8.8818e-16 | 6.5258e-17\n",
      "'xdot'     wrt 'v'          | 9.9511e-01 | 9.9511e-01 | 2.7756e-17 | 2.7892e-17\n",
      "'ydot'     wrt 'g'          | 0.0000e+00 | 0.0000e+00 | 0.0000e+00 | nan\n",
      "'ydot'     wrt 'tf'         | 1.3610e+01 | 1.3610e+01 | 8.8818e-16 | 6.5258e-17\n",
      "'ydot'     wrt 'u'          | 5.6642e+00 | 5.6642e+00 | 3.1402e-16 | 5.5439e-17\n",
      "'ydot'     wrt 'v'          | 2.0024e+00 | 2.0024e+00 | 1.5701e-16 | 7.8409e-17\n",
      "\n",
      "######################################################################\n",
      "Sub Jacobian with Largest Relative Error: BrachistochroneExample 'ode'\n",
      "######################################################################\n",
      "\n",
      "'<output>' wrt '<variable>' | calc mag.  | check mag. | a(cal-chk) | r(cal-chk)\n",
      "-------------------------------------------------------------------------------\n",
      "'vdot'     wrt 'u'          | 9.7620e+00 | 9.7620e+00 | 1.0878e-15 | 1.1143e-16\n"
     ]
    }
   ],
   "source": [
    "num_nodes = 5\n",
    "\n",
    "p = om.Problem(model=om.Group())\n",
    "\n",
    "ivc = p.model.add_subsystem('vars', om.IndepVarComp())\n",
    "ivc.add_output('v', shape=(num_nodes,), units='m/s')\n",
    "ivc.add_output('u', shape=(num_nodes,), units='deg')\n",
    "\n",
    "p.model.add_subsystem('ode', BrachistochroneExample(num_nodes=num_nodes))\n",
    "\n",
    "p.model.connect('vars.v', 'ode.v')\n",
    "p.model.connect('vars.u', 'ode.u')\n",
    "\n",
    "p.setup(force_alloc_complex=True)\n",
    "\n",
    "p.set_val('vars.v', 10*np.random.random(num_nodes))\n",
    "p.set_val('vars.u', 10*np.random.uniform(1, 179, num_nodes))\n",
    "\n",
    "p.run_model()\n",
    "cpd = p.check_partials(method='cs', compact_print=True)"
   ]
  },
  {
   "cell_type": "code",
   "execution_count": 54,
   "metadata": {},
   "outputs": [
    {
     "name": "stdout",
     "output_type": "stream",
     "text": [
      "\n",
      "--- Constraint Report [traj] ---\n",
      "    --- phase0 ---\n",
      "        None\n",
      "\n",
      "Model viewer data has already been recorded for Driver.\n",
      "Full total jacobian was computed 3 times, taking 0.070262 seconds.\n",
      "Total jacobian shape: (100, 125) \n",
      "\n",
      "\n",
      "Jacobian shape: (100, 125)  ( 8.22% nonzero)\n",
      "FWD solves: 14   REV solves: 0\n",
      "Total colors vs. total size: 14 vs 125  (88.8% improvement)\n",
      "\n",
      "Sparsity computed using tolerance: 1e-25\n",
      "Time to compute sparsity: 0.070262 sec.\n",
      "Time to compute coloring: 0.058058 sec.\n",
      "Memory to compute coloring: 0.000000 MB.\n",
      "Optimization terminated successfully    (Exit mode 0)\n",
      "            Current function value: 0.8256735253364696\n",
      "            Iterations: 6\n",
      "            Function evaluations: 6\n",
      "            Gradient evaluations: 6\n",
      "Optimization Complete\n",
      "-----------------------------------\n",
      "tf =  [0.82567353]\n"
     ]
    }
   ],
   "source": [
    "import openmdao.api as om\n",
    "import dymos as dm\n",
    "from dymos.examples.plotting import plot_results\n",
    "import matplotlib.pyplot as plt\n",
    "\n",
    "#\n",
    "# Initialize the Problem and the optimization driver\n",
    "#\n",
    "p = om.Problem(model=om.Group())\n",
    "p.driver = om.ScipyOptimizeDriver()\n",
    "p.driver.declare_coloring()\n",
    "\n",
    "#\n",
    "# Create a trajectory and add a phase to it\n",
    "#\n",
    "traj = p.model.add_subsystem(\"traj\", dm.Trajectory())\n",
    "\n",
    "phase = traj.add_phase(\n",
    "    \"phase0\",\n",
    "    dm.Phase(\n",
    "        ode_class=BrachistochroneExample, transcription=dm.GaussLobatto(num_segments=25)\n",
    "    ),\n",
    ")\n",
    "\n",
    "# Set variable options\n",
    "phase.set_time_options(fix_initial=True, fix_duration=True, duration_bounds=(0.1, 10.0))\n",
    "\n",
    "phase.add_state(\"x\", fix_initial=True, fix_final=True)\n",
    "phase.add_state(\"y\", fix_initial=True, fix_final=True)\n",
    "phase.add_state(\"v\", fix_initial=True, fix_final=False)\n",
    "\n",
    "phase.add_control(\n",
    "    \"u\", continuity=True, rate_continuity=True, units=\"deg\", lower=0.00, upper=360.0\n",
    ")\n",
    "\n",
    "phase.add_parameter(\"g\", units=\"m/s**2\", val=9.81)\n",
    "phase.add_parameter(\"tf\", units=\"s\", val=1.0, opt=True, lower=0.01, upper=2.0)\n",
    "\n",
    "# Minimize final time\n",
    "phase.add_objective(\"tf\")\n",
    "\n",
    "p.model.linear_solver = om.DirectSolver()\n",
    "\n",
    "#\n",
    "# Setup the Problem\n",
    "#\n",
    "p.setup()\n",
    "#\n",
    "# Set the initial values\n",
    "#\n",
    "p[\"traj.phase0.t_initial\"] = 0.0\n",
    "p[\"traj.phase0.t_duration\"] = 1.0\n",
    "\n",
    "p.set_val(\"traj.phase0.states:x\", phase.interp(\"x\", ys=[0, 2]))\n",
    "p.set_val(\"traj.phase0.states:y\", phase.interp(\"y\", ys=[0, -2]))\n",
    "p.set_val(\"traj.phase0.states:v\", phase.interp(\"v\", ys=[0, 9.9]))\n",
    "p.set_val(\"traj.phase0.controls:u\", phase.interp(\"u\", ys=[0.0, 2 * np.pi]))\n",
    "\n",
    "#\n",
    "# Solve for the optimal trajectory\n",
    "#\n",
    "dm.run_problem(p)\n",
    "\n",
    "# Check the results\n",
    "print(\"tf = \", p.get_val(\"traj.phase0.timeseries.parameters:tf\")[-1])\n",
    "# print(p.get_val('traj.phase0.timeseries.time')[-1])\n"
   ]
  },
  {
   "cell_type": "code",
   "execution_count": 55,
   "metadata": {},
   "outputs": [
    {
     "data": {
      "text/plain": [
       "[<matplotlib.lines.Line2D at 0x7f5977fcf310>]"
      ]
     },
     "execution_count": 55,
     "metadata": {},
     "output_type": "execute_result"
    },
    {
     "data": {
      "image/png": "[encoded data removed]",
      "text/plain": [
       "<Figure size 640x480 with 1 Axes>"
      ]
     },
     "metadata": {},
     "output_type": "display_data"
    }
   ],
   "source": [
    "x = [i[0] for i in p.get_val('traj.phase0.timeseries.states:x')]\n",
    "y = [i[0] for i in p.get_val('traj.phase0.timeseries.states:y')]\n",
    "plt.plot(x, y)"
   ]
  }
 ],
 "metadata": {
  "kernelspec": {
   "display_name": "Python 3",
   "language": "python",
   "name": "python3"
  },
  "language_info": {
   "codemirror_mode": {
    "name": "ipython",
    "version": 3
   },
   "file_extension": ".py",
   "mimetype": "text/x-python",
   "name": "python",
   "nbconvert_exporter": "python",
   "pygments_lexer": "ipython3",
   "version": "3.10.6"
  },
  "orig_nbformat": 4,
  "vscode": {
   "interpreter": {
    "hash": "97cc609b13305c559618ec78a438abc56230b9381f827f22d070313b9a1f3777"
   }
  }
 },
 "nbformat": 4,
 "nbformat_minor": 2
}
